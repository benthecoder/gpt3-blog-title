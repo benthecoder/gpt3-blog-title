{
 "cells": [
  {
   "cell_type": "code",
   "execution_count": 1,
   "metadata": {},
   "outputs": [
    {
     "data": {
      "text/plain": [
       "True"
      ]
     },
     "execution_count": 1,
     "metadata": {},
     "output_type": "execute_result"
    }
   ],
   "source": [
    "import openai\n",
    "import wandb\n",
    "import pandas as pd\n",
    "from math import exp\n",
    "import re\n",
    "from IPython.display import display, HTML\n",
    "import os\n",
    "\n",
    "from dotenv import find_dotenv, load_dotenv\n",
    "dotenv_path = find_dotenv()\n",
    "load_dotenv(dotenv_path)\n",
    "assert os.getenv(\"OPENAI_API_KEY\"), \"No OPENAI_API_KEY defined in .env.\""
   ]
  },
  {
   "cell_type": "code",
   "execution_count": 3,
   "metadata": {},
   "outputs": [
    {
     "name": "stdout",
     "output_type": "stream",
     "text": [
      "W&B online. Running your script from this directory will now sync to the cloud.\n"
     ]
    }
   ],
   "source": [
    "!wandb online"
   ]
  },
  {
   "cell_type": "code",
   "execution_count": 4,
   "metadata": {},
   "outputs": [
    {
     "name": "stderr",
     "output_type": "stream",
     "text": [
      "\u001b[34m\u001b[1mwandb\u001b[0m: Currently logged in as: \u001b[33mbenneo\u001b[0m. Use \u001b[1m`wandb login --relogin`\u001b[0m to force relogin\n"
     ]
    },
    {
     "data": {
      "text/html": [
       "Tracking run with wandb version 0.13.5"
      ],
      "text/plain": [
       "<IPython.core.display.HTML object>"
      ]
     },
     "metadata": {},
     "output_type": "display_data"
    },
    {
     "data": {
      "text/html": [
       "Run data is saved locally in <code>/Users/benedictneo/gpt3-blog-title/notebooks/wandb/run-20221201_011103-34ihk3hs</code>"
      ],
      "text/plain": [
       "<IPython.core.display.HTML object>"
      ]
     },
     "metadata": {},
     "output_type": "display_data"
    },
    {
     "data": {
      "text/html": [
       "Syncing run <strong><a href=\"https://wandb.ai/benneo/GPT-3%20blog%20title/runs/34ihk3hs\" target=\"_blank\">absurd-water-9</a></strong> to <a href=\"https://wandb.ai/benneo/GPT-3%20blog%20title\" target=\"_blank\">Weights & Biases</a> (<a href=\"https://wandb.me/run\" target=\"_blank\">docs</a>)<br/>"
      ],
      "text/plain": [
       "<IPython.core.display.HTML object>"
      ]
     },
     "metadata": {},
     "output_type": "display_data"
    }
   ],
   "source": [
    "project_name = \"GPT-3 blog title\"\n",
    "run = wandb.init(project=project_name, job_type='prompting')"
   ]
  },
  {
   "cell_type": "code",
   "execution_count": 5,
   "metadata": {},
   "outputs": [
    {
     "data": {
      "text/plain": [
       "'babbage:ft-personal:blog-title-scorer-2022-12-01-04-05-26'"
      ]
     },
     "execution_count": 5,
     "metadata": {},
     "output_type": "execute_result"
    }
   ],
   "source": [
    "# choose a fine-tuned model\n",
    "artifact = run.use_artifact(\n",
    "    f\"benneo/{project_name}/fine_tune_details:v1\", type=\"fine_tune_details\"\n",
    ")\n",
    "\n",
    "# load the fine-tuned model\n",
    "fine_tuned_model = artifact.metadata['fine_tuned_model']\n",
    "fine_tuned_model"
   ]
  },
  {
   "cell_type": "code",
   "execution_count": 7,
   "metadata": {},
   "outputs": [],
   "source": [
    "def get_pred(res):\n",
    "    pred = res[\"choices\"][0][\"text\"]\n",
    "    class_prob = exp(res[\"choices\"][0][\"logprobs\"][\"token_logprobs\"][0])\n",
    "\n",
    "    if pred == \" bad\":\n",
    "        class_prob = 1.0 - class_prob\n",
    "\n",
    "    return pred, class_prob"
   ]
  },
  {
   "cell_type": "code",
   "execution_count": 11,
   "metadata": {},
   "outputs": [
    {
     "data": {
      "text/plain": [
       "['1. \"Unlock the Power of GPT-3 to Boost Your Medium Blog Titles!\"',\n",
       " '2. \"GPT-3: The Secret to Crafting Viral Medium Blog Titles!\"',\n",
       " '3. \"GPT-3: The Key to Crafting the Perfect Medium Blog Title!\"',\n",
       " '4. \"GPT-3: Unlock the Potential of Your Medium Blog Titles!\"',\n",
       " '5. \"GPT-3: Unlock the Magic of Your Medium Blog Titles!\"',\n",
       " '6. \"GPT-3: Unlock the Power of Your Medium Blog Titles!\"']"
      ]
     },
     "execution_count": 11,
     "metadata": {},
     "output_type": "execute_result"
    }
   ],
   "source": [
    "base_prompt = \"Rewrite the following blog post title into six different titles but optimized for social media virality: {0}\\n\\n-\"\n",
    "\n",
    "title_input = \"Using GPT-3 to Optimize My Medium Blog Titles\"\n",
    "\n",
    "r = openai.Completion.create(\n",
    "    model=\"text-davinci-003\",\n",
    "    prompt=base_prompt.format(title_input),\n",
    "    temperature=0,  # deterministic output; should set to 0.7 or 1 elsewise\n",
    "    max_tokens=256,  # fine for small titles but may need to bump\n",
    "    top_p=1,\n",
    "    frequency_penalty=0,\n",
    "    presence_penalty=0,\n",
    ")\n",
    "\n",
    "gen_titles = re.split(r\" ?\\n-\", r[\"choices\"][0][\"text\"])\n",
    "gen_titles"
   ]
  },
  {
   "cell_type": "code",
   "execution_count": 17,
   "metadata": {},
   "outputs": [
    {
     "data": {
      "text/plain": [
       "['1. Unlocking the Power of GPT-3 to Supercharge Your Medium Blog Titles',\n",
       " '2. Harnessing GPT-3 to Take Your Medium Blog Titles to the Next Level',\n",
       " '3. GPT-3: The Secret Weapon for Crafting Killer Medium Blog Titles',\n",
       " '4. GPT-3: The Key to Crafting Irresistible Medium Blog Titles',\n",
       " '5. GPT-3: The Secret Sauce for Crafting Magnetic Medium Blog Titles',\n",
       " '6. GPT-3: The Magic Ingredient for Crafting Unforgettable Medium Blog Titles',\n",
       " '7. GPT-3: The Secret Tool for Crafting Engaging Medium Blog Titles',\n",
       " '8. GPT-3: The Secret Tool for Crafting Irresistible Medium Blog Titles',\n",
       " '9. GPT-3: The Key to Crafting Magnetic Medium Blog Titles',\n",
       " '10. GPT-3: The Secret to Crafting Unforgettable Medium Blog Titles']"
      ]
     },
     "execution_count": 17,
     "metadata": {},
     "output_type": "execute_result"
    }
   ],
   "source": [
    "base_prompt = \"Rewrite the following blog post title into 10 different titles but optimized for social media virality and quality: {0}\\n\\n-\"\n",
    "\n",
    "title_input = \"Using GPT-3 to Optimize My Medium Blog Titles\"\n",
    "\n",
    "r = openai.Completion.create(\n",
    "    model=\"text-davinci-003\",\n",
    "    prompt=base_prompt.format(title_input),\n",
    "    temperature=0,\n",
    "    max_tokens=256,\n",
    "    top_p=1,\n",
    "    frequency_penalty=0,\n",
    "    presence_penalty=0,\n",
    ")\n",
    "\n",
    "gen_titles = re.split(r\" ?\\n-\", r[\"choices\"][0][\"text\"])\n",
    "gen_titles"
   ]
  },
  {
   "cell_type": "code",
   "execution_count": 18,
   "metadata": {},
   "outputs": [
    {
     "data": {
      "text/plain": [
       "[' 10 Ways GPT-3 Can Help You Optimize Your Medium Blog Titles',\n",
       " ' Unlocking the Power of GPT-3 to Optimize Your Medium Blog Titles',\n",
       " ' How GPT-3 Can Help You Create the Perfect Medium Blog Title',\n",
       " ' GPT-3: The Secret to Crafting the Perfect Medium Blog Title',\n",
       " ' GPT-3: The Key to Crafting the Perfect Medium Blog Title',\n",
       " ' GPT-3: Unlocking the Power to Optimize Your Medium Blog Titles',\n",
       " ' GPT-3: The Secret to Optimizing Your Medium Blog Titles',\n",
       " ' GPT-3: The Key to Optimizing Your Medium Blog Titles',\n",
       " ' GPT-3: The Ultimate Guide to Optimizing Your Medium Blog Titles',\n",
       " ' GPT-3: The Definitive Guide to Optimizing Your Medium Blog Titles']"
      ]
     },
     "execution_count": 18,
     "metadata": {},
     "output_type": "execute_result"
    }
   ],
   "source": [
    "base_prompt = \"Rewrite the following blog post title into 10 different titles but optimized for virality and quality: {0}\\n\\n-\"\n",
    "\n",
    "title_input = \"Using GPT-3 to Optimize My Medium Blog Titles\"\n",
    "\n",
    "r = openai.Completion.create(\n",
    "    model=\"text-davinci-003\",\n",
    "    prompt=base_prompt.format(title_input),\n",
    "    temperature=0,\n",
    "    max_tokens=256,\n",
    "    top_p=1,\n",
    "    frequency_penalty=0,\n",
    "    presence_penalty=0,\n",
    ")\n",
    "\n",
    "gen_titles = re.split(r\" ?\\n-\", r[\"choices\"][0][\"text\"])\n",
    "gen_titles"
   ]
  },
  {
   "cell_type": "markdown",
   "metadata": {},
   "source": [
    "combining the fine tuned scorer model and prompting model into one function"
   ]
  },
  {
   "cell_type": "code",
   "execution_count": 67,
   "metadata": {},
   "outputs": [
    {
     "data": {
      "text/html": [
       "<style type=\"text/css\">\n",
       "#T_059ba_row6_col0 {\n",
       "  color: #00FF00;\n",
       "}\n",
       "</style>\n",
       "<table id=\"T_059ba\">\n",
       "  <thead>\n",
       "    <tr>\n",
       "      <th id=\"T_059ba_level0_col0\" class=\"col_heading level0 col0\" >Title</th>\n",
       "      <th id=\"T_059ba_level0_col1\" class=\"col_heading level0 col1\" >Good Prob</th>\n",
       "    </tr>\n",
       "  </thead>\n",
       "  <tbody>\n",
       "    <tr>\n",
       "      <td id=\"T_059ba_row0_col0\" class=\"data row0 col0\" > GPT-3: The Definitive Guide to Optimizing Your Medium Blog Titles</td>\n",
       "      <td id=\"T_059ba_row0_col1\" class=\"data row0 col1\" >76.8%</td>\n",
       "    </tr>\n",
       "    <tr>\n",
       "      <td id=\"T_059ba_row1_col0\" class=\"data row1 col0\" > GPT-3: The Ultimate Guide to Optimizing Your Medium Blog Titles</td>\n",
       "      <td id=\"T_059ba_row1_col1\" class=\"data row1 col1\" >74.4%</td>\n",
       "    </tr>\n",
       "    <tr>\n",
       "      <td id=\"T_059ba_row2_col0\" class=\"data row2 col0\" > 10 Ways GPT-3 Can Help You Optimize Your Medium Blog Titles</td>\n",
       "      <td id=\"T_059ba_row2_col1\" class=\"data row2 col1\" >64.0%</td>\n",
       "    </tr>\n",
       "    <tr>\n",
       "      <td id=\"T_059ba_row3_col0\" class=\"data row3 col0\" > GPT-3: The Secret to Optimizing Your Medium Blog Titles</td>\n",
       "      <td id=\"T_059ba_row3_col1\" class=\"data row3 col1\" >63.3%</td>\n",
       "    </tr>\n",
       "    <tr>\n",
       "      <td id=\"T_059ba_row4_col0\" class=\"data row4 col0\" > GPT-3: The Key to Optimizing Your Medium Blog Titles</td>\n",
       "      <td id=\"T_059ba_row4_col1\" class=\"data row4 col1\" >61.2%</td>\n",
       "    </tr>\n",
       "    <tr>\n",
       "      <td id=\"T_059ba_row5_col0\" class=\"data row5 col0\" > Unlocking the Power of GPT-3 to Optimize Your Medium Blog Titles</td>\n",
       "      <td id=\"T_059ba_row5_col1\" class=\"data row5 col1\" >57.3%</td>\n",
       "    </tr>\n",
       "    <tr>\n",
       "      <td id=\"T_059ba_row6_col0\" class=\"data row6 col0\" >Using GPT-3 to Optimize My Medium Blog Titles</td>\n",
       "      <td id=\"T_059ba_row6_col1\" class=\"data row6 col1\" >56.4%</td>\n",
       "    </tr>\n",
       "    <tr>\n",
       "      <td id=\"T_059ba_row7_col0\" class=\"data row7 col0\" > GPT-3: Unlocking the Power to Optimize Your Medium Blog Titles</td>\n",
       "      <td id=\"T_059ba_row7_col1\" class=\"data row7 col1\" >56.4%</td>\n",
       "    </tr>\n",
       "    <tr>\n",
       "      <td id=\"T_059ba_row8_col0\" class=\"data row8 col0\" > GPT-3: The Secret to Crafting the Perfect Medium Blog Title</td>\n",
       "      <td id=\"T_059ba_row8_col1\" class=\"data row8 col1\" >47.8%</td>\n",
       "    </tr>\n",
       "    <tr>\n",
       "      <td id=\"T_059ba_row9_col0\" class=\"data row9 col0\" > How GPT-3 Can Help You Create the Perfect Medium Blog Title</td>\n",
       "      <td id=\"T_059ba_row9_col1\" class=\"data row9 col1\" >46.8%</td>\n",
       "    </tr>\n",
       "    <tr>\n",
       "      <td id=\"T_059ba_row10_col0\" class=\"data row10 col0\" > GPT-3: The Key to Crafting the Perfect Medium Blog Title</td>\n",
       "      <td id=\"T_059ba_row10_col1\" class=\"data row10 col1\" >43.9%</td>\n",
       "    </tr>\n",
       "  </tbody>\n",
       "</table>\n"
      ],
      "text/plain": [
       "<pandas.io.formats.style.Styler at 0x12f216c70>"
      ]
     },
     "metadata": {},
     "output_type": "display_data"
    }
   ],
   "source": [
    "def title_optimizer(title_input, temp=1.0):\n",
    "    base_prompt = \"Rewrite the following blog post title into 6 different titles but optimized for virality and quality: {0}\\n\\n-\"\n",
    "    finetune_prompt = \"Title: {0} ->\"\n",
    "\n",
    "    r = openai.Completion.create(\n",
    "        model=\"text-davinci-003\",\n",
    "        prompt=base_prompt.format(title_input),\n",
    "        temperature=0,\n",
    "        max_tokens=256,\n",
    "        top_p=1,\n",
    "        frequency_penalty=0,\n",
    "        presence_penalty=0,\n",
    "    )\n",
    "\n",
    "    gen_titles = re.split(r\" ?\\n-\", r[\"choices\"][0][\"text\"])\n",
    "    gen_titles = list(set(gen_titles + [title_input]))\n",
    "\n",
    "    ranked_titles = []\n",
    "\n",
    "    for gen_title in gen_titles:\n",
    "        r = openai.Completion.create(\n",
    "            model=fine_tuned_model,\n",
    "            prompt=finetune_prompt.format(gen_title),\n",
    "            temperature=0,\n",
    "            max_tokens=1,\n",
    "            logprobs=1,\n",
    "        )\n",
    "\n",
    "        _, class_prob = get_pred(r)\n",
    "\n",
    "        ranked_titles.append(\n",
    "            (\n",
    "                f\"{gen_title}\" if gen_title == title_input else gen_title,\n",
    "                class_prob,\n",
    "            )\n",
    "        )\n",
    "\n",
    "    df = pd.DataFrame(ranked_titles, columns=[\"Title\", \"Good Prob\"])\n",
    "    df = df.sort_values(by=\"Good Prob\", ascending=False)\n",
    "\n",
    "    # return a html output of the data frame and color the text if it matches the input and remove index and convert good prob to %\n",
    "\n",
    "    df_styled = (\n",
    "        df.style.hide(axis=\"index\")\n",
    "        .applymap(\n",
    "            lambda x: \"color: #00FF00\" if x == title_input else \"\",\n",
    "            subset=[\"Title\"],\n",
    "        )\n",
    "        .format({\"Good Prob\": \"{:.1%}\"})\n",
    "    )\n",
    "\n",
    "    display(df_styled)\n",
    "\n",
    "    return df, df_styled\n",
    "\n",
    "\n",
    "out, out_html = title_optimizer(\"Using GPT-3 to Optimize My Medium Blog Titles\", temp=0)"
   ]
  },
  {
   "cell_type": "markdown",
   "metadata": {},
   "source": [
    "testing the function"
   ]
  },
  {
   "cell_type": "code",
   "execution_count": 68,
   "metadata": {},
   "outputs": [
    {
     "data": {
      "text/html": [
       "<div>\n",
       "<style scoped>\n",
       "    .dataframe tbody tr th:only-of-type {\n",
       "        vertical-align: middle;\n",
       "    }\n",
       "\n",
       "    .dataframe tbody tr th {\n",
       "        vertical-align: top;\n",
       "    }\n",
       "\n",
       "    .dataframe thead th {\n",
       "        text-align: right;\n",
       "    }\n",
       "</style>\n",
       "<table border=\"1\" class=\"dataframe\">\n",
       "  <thead>\n",
       "    <tr style=\"text-align: right;\">\n",
       "      <th></th>\n",
       "      <th>Title</th>\n",
       "      <th>Good Prob</th>\n",
       "    </tr>\n",
       "  </thead>\n",
       "  <tbody>\n",
       "    <tr>\n",
       "      <th>10</th>\n",
       "      <td>GPT-3: The Definitive Guide to Optimizing You...</td>\n",
       "      <td>0.768009</td>\n",
       "    </tr>\n",
       "    <tr>\n",
       "      <th>5</th>\n",
       "      <td>GPT-3: The Ultimate Guide to Optimizing Your ...</td>\n",
       "      <td>0.743880</td>\n",
       "    </tr>\n",
       "    <tr>\n",
       "      <th>0</th>\n",
       "      <td>10 Ways GPT-3 Can Help You Optimize Your Medi...</td>\n",
       "      <td>0.640423</td>\n",
       "    </tr>\n",
       "    <tr>\n",
       "      <th>4</th>\n",
       "      <td>GPT-3: The Secret to Optimizing Your Medium B...</td>\n",
       "      <td>0.633265</td>\n",
       "    </tr>\n",
       "    <tr>\n",
       "      <th>2</th>\n",
       "      <td>GPT-3: The Key to Optimizing Your Medium Blog...</td>\n",
       "      <td>0.611543</td>\n",
       "    </tr>\n",
       "    <tr>\n",
       "      <th>8</th>\n",
       "      <td>Unlocking the Power of GPT-3 to Optimize Your...</td>\n",
       "      <td>0.572864</td>\n",
       "    </tr>\n",
       "    <tr>\n",
       "      <th>7</th>\n",
       "      <td>Using GPT-3 to Optimize My Medium Blog Titles</td>\n",
       "      <td>0.564085</td>\n",
       "    </tr>\n",
       "    <tr>\n",
       "      <th>3</th>\n",
       "      <td>GPT-3: Unlocking the Power to Optimize Your M...</td>\n",
       "      <td>0.564066</td>\n",
       "    </tr>\n",
       "    <tr>\n",
       "      <th>6</th>\n",
       "      <td>GPT-3: The Secret to Crafting the Perfect Med...</td>\n",
       "      <td>0.477515</td>\n",
       "    </tr>\n",
       "    <tr>\n",
       "      <th>9</th>\n",
       "      <td>How GPT-3 Can Help You Create the Perfect Med...</td>\n",
       "      <td>0.467680</td>\n",
       "    </tr>\n",
       "    <tr>\n",
       "      <th>1</th>\n",
       "      <td>GPT-3: The Key to Crafting the Perfect Medium...</td>\n",
       "      <td>0.438846</td>\n",
       "    </tr>\n",
       "  </tbody>\n",
       "</table>\n",
       "</div>"
      ],
      "text/plain": [
       "                                                Title  Good Prob\n",
       "10   GPT-3: The Definitive Guide to Optimizing You...   0.768009\n",
       "5    GPT-3: The Ultimate Guide to Optimizing Your ...   0.743880\n",
       "0    10 Ways GPT-3 Can Help You Optimize Your Medi...   0.640423\n",
       "4    GPT-3: The Secret to Optimizing Your Medium B...   0.633265\n",
       "2    GPT-3: The Key to Optimizing Your Medium Blog...   0.611543\n",
       "8    Unlocking the Power of GPT-3 to Optimize Your...   0.572864\n",
       "7       Using GPT-3 to Optimize My Medium Blog Titles   0.564085\n",
       "3    GPT-3: Unlocking the Power to Optimize Your M...   0.564066\n",
       "6    GPT-3: The Secret to Crafting the Perfect Med...   0.477515\n",
       "9    How GPT-3 Can Help You Create the Perfect Med...   0.467680\n",
       "1    GPT-3: The Key to Crafting the Perfect Medium...   0.438846"
      ]
     },
     "execution_count": 68,
     "metadata": {},
     "output_type": "execute_result"
    }
   ],
   "source": [
    "out"
   ]
  },
  {
   "cell_type": "code",
   "execution_count": 69,
   "metadata": {},
   "outputs": [
    {
     "data": {
      "text/html": [
       "<style type=\"text/css\">\n",
       "#T_059ba_row6_col0 {\n",
       "  color: #00FF00;\n",
       "}\n",
       "</style>\n",
       "<table id=\"T_059ba\">\n",
       "  <thead>\n",
       "    <tr>\n",
       "      <th id=\"T_059ba_level0_col0\" class=\"col_heading level0 col0\" >Title</th>\n",
       "      <th id=\"T_059ba_level0_col1\" class=\"col_heading level0 col1\" >Good Prob</th>\n",
       "    </tr>\n",
       "  </thead>\n",
       "  <tbody>\n",
       "    <tr>\n",
       "      <td id=\"T_059ba_row0_col0\" class=\"data row0 col0\" > GPT-3: The Definitive Guide to Optimizing Your Medium Blog Titles</td>\n",
       "      <td id=\"T_059ba_row0_col1\" class=\"data row0 col1\" >76.8%</td>\n",
       "    </tr>\n",
       "    <tr>\n",
       "      <td id=\"T_059ba_row1_col0\" class=\"data row1 col0\" > GPT-3: The Ultimate Guide to Optimizing Your Medium Blog Titles</td>\n",
       "      <td id=\"T_059ba_row1_col1\" class=\"data row1 col1\" >74.4%</td>\n",
       "    </tr>\n",
       "    <tr>\n",
       "      <td id=\"T_059ba_row2_col0\" class=\"data row2 col0\" > 10 Ways GPT-3 Can Help You Optimize Your Medium Blog Titles</td>\n",
       "      <td id=\"T_059ba_row2_col1\" class=\"data row2 col1\" >64.0%</td>\n",
       "    </tr>\n",
       "    <tr>\n",
       "      <td id=\"T_059ba_row3_col0\" class=\"data row3 col0\" > GPT-3: The Secret to Optimizing Your Medium Blog Titles</td>\n",
       "      <td id=\"T_059ba_row3_col1\" class=\"data row3 col1\" >63.3%</td>\n",
       "    </tr>\n",
       "    <tr>\n",
       "      <td id=\"T_059ba_row4_col0\" class=\"data row4 col0\" > GPT-3: The Key to Optimizing Your Medium Blog Titles</td>\n",
       "      <td id=\"T_059ba_row4_col1\" class=\"data row4 col1\" >61.2%</td>\n",
       "    </tr>\n",
       "    <tr>\n",
       "      <td id=\"T_059ba_row5_col0\" class=\"data row5 col0\" > Unlocking the Power of GPT-3 to Optimize Your Medium Blog Titles</td>\n",
       "      <td id=\"T_059ba_row5_col1\" class=\"data row5 col1\" >57.3%</td>\n",
       "    </tr>\n",
       "    <tr>\n",
       "      <td id=\"T_059ba_row6_col0\" class=\"data row6 col0\" >Using GPT-3 to Optimize My Medium Blog Titles</td>\n",
       "      <td id=\"T_059ba_row6_col1\" class=\"data row6 col1\" >56.4%</td>\n",
       "    </tr>\n",
       "    <tr>\n",
       "      <td id=\"T_059ba_row7_col0\" class=\"data row7 col0\" > GPT-3: Unlocking the Power to Optimize Your Medium Blog Titles</td>\n",
       "      <td id=\"T_059ba_row7_col1\" class=\"data row7 col1\" >56.4%</td>\n",
       "    </tr>\n",
       "    <tr>\n",
       "      <td id=\"T_059ba_row8_col0\" class=\"data row8 col0\" > GPT-3: The Secret to Crafting the Perfect Medium Blog Title</td>\n",
       "      <td id=\"T_059ba_row8_col1\" class=\"data row8 col1\" >47.8%</td>\n",
       "    </tr>\n",
       "    <tr>\n",
       "      <td id=\"T_059ba_row9_col0\" class=\"data row9 col0\" > How GPT-3 Can Help You Create the Perfect Medium Blog Title</td>\n",
       "      <td id=\"T_059ba_row9_col1\" class=\"data row9 col1\" >46.8%</td>\n",
       "    </tr>\n",
       "    <tr>\n",
       "      <td id=\"T_059ba_row10_col0\" class=\"data row10 col0\" > GPT-3: The Key to Crafting the Perfect Medium Blog Title</td>\n",
       "      <td id=\"T_059ba_row10_col1\" class=\"data row10 col1\" >43.9%</td>\n",
       "    </tr>\n",
       "  </tbody>\n",
       "</table>\n"
      ],
      "text/plain": [
       "<pandas.io.formats.style.Styler at 0x12f216c70>"
      ]
     },
     "execution_count": 69,
     "metadata": {},
     "output_type": "execute_result"
    }
   ],
   "source": [
    "out_html"
   ]
  },
  {
   "cell_type": "code",
   "execution_count": null,
   "metadata": {},
   "outputs": [],
   "source": [
    "prediction_table = wandb.Table(columns=['Title', 'Good Prob'], data=out)"
   ]
  },
  {
   "cell_type": "code",
   "execution_count": 52,
   "metadata": {},
   "outputs": [],
   "source": [
    "wandb.log({'predictions': prediction_table})"
   ]
  },
  {
   "cell_type": "code",
   "execution_count": 53,
   "metadata": {},
   "outputs": [
    {
     "data": {
      "text/html": [
       "Waiting for W&B process to finish... <strong style=\"color:green\">(success).</strong>"
      ],
      "text/plain": [
       "<IPython.core.display.HTML object>"
      ]
     },
     "metadata": {},
     "output_type": "display_data"
    },
    {
     "data": {
      "application/vnd.jupyter.widget-view+json": {
       "model_id": "676f0820a6a6461dbfbe1ee908663f34",
       "version_major": 2,
       "version_minor": 0
      },
      "text/plain": [
       "VBox(children=(Label(value='0.003 MB of 0.003 MB uploaded (0.000 MB deduped)\\r'), FloatProgress(value=1.0, max…"
      ]
     },
     "metadata": {},
     "output_type": "display_data"
    },
    {
     "data": {
      "text/html": [
       "Synced <strong style=\"color:#cdcd00\">absurd-water-9</strong>: <a href=\"https://wandb.ai/benneo/GPT-3%20blog%20title/runs/34ihk3hs\" target=\"_blank\">https://wandb.ai/benneo/GPT-3%20blog%20title/runs/34ihk3hs</a><br/>Synced 6 W&B file(s), 1 media file(s), 1 artifact file(s) and 0 other file(s)"
      ],
      "text/plain": [
       "<IPython.core.display.HTML object>"
      ]
     },
     "metadata": {},
     "output_type": "display_data"
    },
    {
     "data": {
      "text/html": [
       "Find logs at: <code>./wandb/run-20221201_011103-34ihk3hs/logs</code>"
      ],
      "text/plain": [
       "<IPython.core.display.HTML object>"
      ]
     },
     "metadata": {},
     "output_type": "display_data"
    }
   ],
   "source": [
    "wandb.finish()"
   ]
  },
  {
   "cell_type": "code",
   "execution_count": 16,
   "metadata": {},
   "outputs": [
    {
     "name": "stdout",
     "output_type": "stream",
     "text": [
      "[' \"GPT-3: Unlock the Potential of Your Medium Blog Titles\"', ' \"GPT-3: The Tool to Create the Most Viral Medium Blog Titles\"', 'Using GPT-3 to Optimize My Medium Blog Titles', ' \"GPT-3: The Secret to Crafting the Perfect Medium Blog Title\"', ' \"Unlock the Power of GPT-3 to Maximize Your Medium Blog Titles\"', ' \"GPT-3: The Tool to Unlock the Potential of Your Medium Blog Titles\"', ' \"GPT-3: The Key to Crafting the Most Engaging Medium Blog Titles\"']\n",
      "[(' \"GPT-3: Unlock the Potential of Your Medium Blog Titles\"', 0.4930236026373763), (' \"GPT-3: The Tool to Create the Most Viral Medium Blog Titles\"', 0.4205222140099729), ('Using GPT-3 to Optimize My Medium Blog Titles', 0.564084819278315), (' \"GPT-3: The Secret to Crafting the Perfect Medium Blog Title\"', 0.4684280400212243), (' \"Unlock the Power of GPT-3 to Maximize Your Medium Blog Titles\"', 0.5690718720017496), (' \"GPT-3: The Tool to Unlock the Potential of Your Medium Blog Titles\"', 0.4786454237017592), (' \"GPT-3: The Key to Crafting the Most Engaging Medium Blog Titles\"', 0.504716395766761)]\n"
     ]
    }
   ],
   "source": [
    "def title_optimizer(fine_tuned_model, title_input, temp=1.0):\n",
    "\n",
    "    base_prompt = \"Rewrite the following blog post title into 6 different titles but optimized for virality and quality: {0}\\n\\n-\"\n",
    "    finetune_prompt = \"Title: {0} ->\"\n",
    "\n",
    "    r = openai.Completion.create(\n",
    "        model=\"text-davinci-003\",\n",
    "        prompt=base_prompt.format(title_input),\n",
    "        temperature=temp,  # 0 is deterministic output; should set to 0.7 or 1 elsewise\n",
    "        max_tokens=256,\n",
    "        top_p=1,\n",
    "        frequency_penalty=0,\n",
    "        presence_penalty=0,\n",
    "    )\n",
    "\n",
    "    gen_titles = re.split(r\" ?\\n-\", r[\"choices\"][0][\"text\"])\n",
    "\n",
    "    gen_titles = list(set(gen_titles + [title_input]))\n",
    "\n",
    "    print(gen_titles)\n",
    "\n",
    "    ranked_titles = []\n",
    "\n",
    "    for gen_title in gen_titles:\n",
    "        r = openai.Completion.create(\n",
    "            model=fine_tuned_model,\n",
    "            prompt=finetune_prompt.format(gen_title),\n",
    "            temperature=0,\n",
    "            max_tokens=1,\n",
    "            logprobs=1,\n",
    "        )\n",
    "\n",
    "        _, class_prob = get_pred(r)\n",
    "\n",
    "        ranked_titles.append(\n",
    "            (\n",
    "                f\"{gen_title}\" if gen_title == title_input else gen_title,\n",
    "                class_prob,\n",
    "            )\n",
    "        )\n",
    "\n",
    "    print(ranked_titles)\n",
    "\n",
    "    df = pd.DataFrame(ranked_titles, columns=[\"Title\", \"Good Prob\"])\n",
    "    df = df.sort_values(by=\"Good Prob\", ascending=False)\n",
    "\n",
    "    # highlight the input text\n",
    "    df_styled = (\n",
    "        df.style.hide(axis=\"index\")\n",
    "        .applymap(\n",
    "            lambda x: \"color: #00FF00\" if x == title_input else \"\",\n",
    "            subset=[\"Title\"],\n",
    "        )\n",
    "        .format({\"Good Prob\": \"{:.2%}\"})\n",
    "    )\n",
    "\n",
    "    return df_styled\n",
    "\n",
    "\n",
    "out_styled = title_optimizer('babbage:ft-personal:blog-title-scorer-2022-12-01-04-05-26'\n",
    ", \"Using GPT-3 to Optimize My Medium Blog Titles\", temp=0)"
   ]
  },
  {
   "cell_type": "code",
   "execution_count": 17,
   "metadata": {},
   "outputs": [
    {
     "data": {
      "text/html": [
       "<style type=\"text/css\">\n",
       "#T_fd3a0_row1_col0 {\n",
       "  color: #00FF00;\n",
       "}\n",
       "</style>\n",
       "<table id=\"T_fd3a0\">\n",
       "  <thead>\n",
       "    <tr>\n",
       "      <th id=\"T_fd3a0_level0_col0\" class=\"col_heading level0 col0\" >Title</th>\n",
       "      <th id=\"T_fd3a0_level0_col1\" class=\"col_heading level0 col1\" >Good Prob</th>\n",
       "    </tr>\n",
       "  </thead>\n",
       "  <tbody>\n",
       "    <tr>\n",
       "      <td id=\"T_fd3a0_row0_col0\" class=\"data row0 col0\" > \"Unlock the Power of GPT-3 to Maximize Your Medium Blog Titles\"</td>\n",
       "      <td id=\"T_fd3a0_row0_col1\" class=\"data row0 col1\" >56.91%</td>\n",
       "    </tr>\n",
       "    <tr>\n",
       "      <td id=\"T_fd3a0_row1_col0\" class=\"data row1 col0\" >Using GPT-3 to Optimize My Medium Blog Titles</td>\n",
       "      <td id=\"T_fd3a0_row1_col1\" class=\"data row1 col1\" >56.41%</td>\n",
       "    </tr>\n",
       "    <tr>\n",
       "      <td id=\"T_fd3a0_row2_col0\" class=\"data row2 col0\" > \"GPT-3: The Key to Crafting the Most Engaging Medium Blog Titles\"</td>\n",
       "      <td id=\"T_fd3a0_row2_col1\" class=\"data row2 col1\" >50.47%</td>\n",
       "    </tr>\n",
       "    <tr>\n",
       "      <td id=\"T_fd3a0_row3_col0\" class=\"data row3 col0\" > \"GPT-3: Unlock the Potential of Your Medium Blog Titles\"</td>\n",
       "      <td id=\"T_fd3a0_row3_col1\" class=\"data row3 col1\" >49.30%</td>\n",
       "    </tr>\n",
       "    <tr>\n",
       "      <td id=\"T_fd3a0_row4_col0\" class=\"data row4 col0\" > \"GPT-3: The Tool to Unlock the Potential of Your Medium Blog Titles\"</td>\n",
       "      <td id=\"T_fd3a0_row4_col1\" class=\"data row4 col1\" >47.86%</td>\n",
       "    </tr>\n",
       "    <tr>\n",
       "      <td id=\"T_fd3a0_row5_col0\" class=\"data row5 col0\" > \"GPT-3: The Secret to Crafting the Perfect Medium Blog Title\"</td>\n",
       "      <td id=\"T_fd3a0_row5_col1\" class=\"data row5 col1\" >46.84%</td>\n",
       "    </tr>\n",
       "    <tr>\n",
       "      <td id=\"T_fd3a0_row6_col0\" class=\"data row6 col0\" > \"GPT-3: The Tool to Create the Most Viral Medium Blog Titles\"</td>\n",
       "      <td id=\"T_fd3a0_row6_col1\" class=\"data row6 col1\" >42.05%</td>\n",
       "    </tr>\n",
       "  </tbody>\n",
       "</table>\n"
      ],
      "text/plain": [
       "<pandas.io.formats.style.Styler at 0x12a4faaf0>"
      ]
     },
     "execution_count": 17,
     "metadata": {},
     "output_type": "execute_result"
    }
   ],
   "source": [
    "out_styled"
   ]
  },
  {
   "cell_type": "code",
   "execution_count": null,
   "metadata": {},
   "outputs": [],
   "source": []
  }
 ],
 "metadata": {
  "kernelspec": {
   "display_name": "Python 3.9.13 ('gpt3-blog')",
   "language": "python",
   "name": "python3"
  },
  "language_info": {
   "codemirror_mode": {
    "name": "ipython",
    "version": 3
   },
   "file_extension": ".py",
   "mimetype": "text/x-python",
   "name": "python",
   "nbconvert_exporter": "python",
   "pygments_lexer": "ipython3",
   "version": "3.9.13"
  },
  "orig_nbformat": 4,
  "vscode": {
   "interpreter": {
    "hash": "98388095db23f0d270f6cd358fd032ff4feb9c08e3a138f6a6bcb71953dc310f"
   }
  }
 },
 "nbformat": 4,
 "nbformat_minor": 2
}
