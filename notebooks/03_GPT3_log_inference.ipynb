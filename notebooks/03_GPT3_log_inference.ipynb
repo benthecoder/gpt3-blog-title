{
 "cells": [
  {
   "cell_type": "markdown",
   "metadata": {},
   "source": [
    "# Log inference"
   ]
  },
  {
   "cell_type": "code",
   "execution_count": 20,
   "metadata": {},
   "outputs": [],
   "source": [
    "import os\n",
    "from dotenv import find_dotenv, load_dotenv\n",
    "dotenv_path = find_dotenv()\n",
    "load_dotenv(dotenv_path)\n",
    "\n",
    "import openai\n",
    "import wandb\n",
    "from pathlib import Path\n",
    "import pandas as pd\n",
    "import numpy as np\n",
    "from tqdm import tqdm\n",
    "\n",
    "from math import exp"
   ]
  },
  {
   "cell_type": "code",
   "execution_count": 2,
   "metadata": {},
   "outputs": [
    {
     "name": "stderr",
     "output_type": "stream",
     "text": [
      "\u001b[34m\u001b[1mwandb\u001b[0m: Currently logged in as: \u001b[33mbenneo\u001b[0m. Use \u001b[1m`wandb login --relogin`\u001b[0m to force relogin\n"
     ]
    },
    {
     "data": {
      "text/html": [
       "Tracking run with wandb version 0.13.5"
      ],
      "text/plain": [
       "<IPython.core.display.HTML object>"
      ]
     },
     "metadata": {},
     "output_type": "display_data"
    },
    {
     "data": {
      "text/html": [
       "Run data is saved locally in <code>/Users/benedictneo/gpt3-blog-title/notebooks/wandb/run-20221130_223125-3701fyay</code>"
      ],
      "text/plain": [
       "<IPython.core.display.HTML object>"
      ]
     },
     "metadata": {},
     "output_type": "display_data"
    },
    {
     "data": {
      "text/html": [
       "Syncing run <strong><a href=\"https://wandb.ai/benneo/GPT-3%20blog%20title/runs/3701fyay\" target=\"_blank\">clear-pine-6</a></strong> to <a href=\"https://wandb.ai/benneo/GPT-3%20blog%20title\" target=\"_blank\">Weights & Biases</a> (<a href=\"https://wandb.me/run\" target=\"_blank\">docs</a>)<br/>"
      ],
      "text/plain": [
       "<IPython.core.display.HTML object>"
      ]
     },
     "metadata": {},
     "output_type": "display_data"
    }
   ],
   "source": [
    "# create eval job\n",
    "project_name = \"GPT-3 blog title\"\n",
    "run = wandb.init(project=project_name, job_type='eval')"
   ]
  },
  {
   "cell_type": "markdown",
   "metadata": {},
   "source": [
    "retrive config parameteres from job file"
   ]
  },
  {
   "cell_type": "code",
   "execution_count": 3,
   "metadata": {},
   "outputs": [],
   "source": [
    "# choose a fine-tuned model\n",
    "artifact = run.use_artifact(\n",
    "    f\"benneo/{project_name}/fine_tune_details:v1\", type=\"fine_tune_details\"\n",
    ")"
   ]
  },
  {
   "cell_type": "markdown",
   "metadata": {},
   "source": [
    "all details of job is in metadata"
   ]
  },
  {
   "cell_type": "code",
   "execution_count": 5,
   "metadata": {},
   "outputs": [
    {
     "data": {
      "text/plain": [
       "{'id': 'ft-3Svmi2GPLKTLnZAQCmHlEYql',\n",
       " 'model': 'babbage',\n",
       " 'object': 'fine-tune',\n",
       " 'status': 'succeeded',\n",
       " 'created_at': 1669865236,\n",
       " 'updated_at': 1669867527,\n",
       " 'hyperparams': {'n_epochs': 4,\n",
       "  'batch_size': 256,\n",
       "  'prompt_loss_weight': 0.1,\n",
       "  'classification_n_classes': 2,\n",
       "  'learning_rate_multiplier': 0.1,\n",
       "  'classification_positive_class': ' good',\n",
       "  'compute_classification_metrics': True},\n",
       " 'result_files': [{'id': 'file-mhWxYNRuWpzRWT3ZHAua58We',\n",
       "   'bytes': 36754,\n",
       "   'object': 'file',\n",
       "   'status': 'processed',\n",
       "   'purpose': 'fine-tune-results',\n",
       "   'filename': 'compiled_results.csv',\n",
       "   'created_at': 1669867527,\n",
       "   'status_details': None}],\n",
       " 'training_files': [{'id': 'file-eRRY7tNbGl7v8c7GLqDr3NRn',\n",
       "   'bytes': 3014524,\n",
       "   'object': 'file',\n",
       "   'status': 'processed',\n",
       "   'purpose': 'fine-tune',\n",
       "   'filename': 'file',\n",
       "   'created_at': 1669849602,\n",
       "   'status_details': None}],\n",
       " 'organization_id': 'org-Kz5UVJ3lj9OBEwe4ukIaOuoU',\n",
       " 'fine_tuned_model': 'babbage:ft-personal:blog-title-scorer-2022-12-01-04-05-26',\n",
       " 'validation_files': [{'id': 'file-ueOemwgI8SRCkiffG18K6WNK',\n",
       "   'bytes': 93362,\n",
       "   'object': 'file',\n",
       "   'status': 'processed',\n",
       "   'purpose': 'fine-tune',\n",
       "   'filename': 'file',\n",
       "   'created_at': 1669849603,\n",
       "   'status_details': None}]}"
      ]
     },
     "execution_count": 5,
     "metadata": {},
     "output_type": "execute_result"
    }
   ],
   "source": [
    "artifact.metadata"
   ]
  },
  {
   "cell_type": "markdown",
   "metadata": {},
   "source": [
    "add metadata to eval run config"
   ]
  },
  {
   "cell_type": "code",
   "execution_count": 6,
   "metadata": {},
   "outputs": [],
   "source": [
    "wandb.config.update({k:artifact.metadata[k] for k in ['fine_tuned_model', 'model', 'hyperparams']})"
   ]
  },
  {
   "cell_type": "markdown",
   "metadata": {},
   "source": [
    "access model id"
   ]
  },
  {
   "cell_type": "code",
   "execution_count": 7,
   "metadata": {},
   "outputs": [
    {
     "data": {
      "text/plain": [
       "'babbage:ft-personal:blog-title-scorer-2022-12-01-04-05-26'"
      ]
     },
     "execution_count": 7,
     "metadata": {},
     "output_type": "execute_result"
    }
   ],
   "source": [
    "fine_tuned_model = artifact.metadata['fine_tuned_model']\n",
    "fine_tuned_model"
   ]
  },
  {
   "cell_type": "markdown",
   "metadata": {},
   "source": [
    "retrive latest validation file"
   ]
  },
  {
   "cell_type": "code",
   "execution_count": 10,
   "metadata": {},
   "outputs": [
    {
     "data": {
      "text/plain": [
       "'./artifacts/medium_valid.jsonl:v0/prompts_prepared_valid.jsonl'"
      ]
     },
     "execution_count": 10,
     "metadata": {},
     "output_type": "execute_result"
    }
   ],
   "source": [
    "artifact_valid = run.use_artifact('benneo/GPT-3 blog title/medium_valid.jsonl:latest', type='validation_files')\n",
    "valid_file = artifact_valid.get_path('prompts_prepared_valid.jsonl').download()\n",
    "valid_file"
   ]
  },
  {
   "cell_type": "code",
   "execution_count": 11,
   "metadata": {},
   "outputs": [
    {
     "data": {
      "text/html": [
       "<div>\n",
       "<style scoped>\n",
       "    .dataframe tbody tr th:only-of-type {\n",
       "        vertical-align: middle;\n",
       "    }\n",
       "\n",
       "    .dataframe tbody tr th {\n",
       "        vertical-align: top;\n",
       "    }\n",
       "\n",
       "    .dataframe thead th {\n",
       "        text-align: right;\n",
       "    }\n",
       "</style>\n",
       "<table border=\"1\" class=\"dataframe\">\n",
       "  <thead>\n",
       "    <tr style=\"text-align: right;\">\n",
       "      <th></th>\n",
       "      <th>prompt</th>\n",
       "      <th>completion</th>\n",
       "    </tr>\n",
       "  </thead>\n",
       "  <tbody>\n",
       "    <tr>\n",
       "      <th>0</th>\n",
       "      <td>Title: Making serverless variables work for yo...</td>\n",
       "      <td>good</td>\n",
       "    </tr>\n",
       "    <tr>\n",
       "      <th>1</th>\n",
       "      <td>Title: The Beginners Guide to Similarity Match...</td>\n",
       "      <td>good</td>\n",
       "    </tr>\n",
       "    <tr>\n",
       "      <th>2</th>\n",
       "      <td>Title: How we crafted a career development fra...</td>\n",
       "      <td>good</td>\n",
       "    </tr>\n",
       "    <tr>\n",
       "      <th>3</th>\n",
       "      <td>Title: Photographers are obsolete. Are they? -&gt;</td>\n",
       "      <td>good</td>\n",
       "    </tr>\n",
       "    <tr>\n",
       "      <th>4</th>\n",
       "      <td>Title: 5 Cool AI-Powered Drug Discovery Tools -&gt;</td>\n",
       "      <td>good</td>\n",
       "    </tr>\n",
       "    <tr>\n",
       "      <th>...</th>\n",
       "      <td>...</td>\n",
       "      <td>...</td>\n",
       "    </tr>\n",
       "    <tr>\n",
       "      <th>995</th>\n",
       "      <td>Title: From Pandas to PySpark with Koalas -&gt;</td>\n",
       "      <td>bad</td>\n",
       "    </tr>\n",
       "    <tr>\n",
       "      <th>996</th>\n",
       "      <td>Title: 7 Advanced Python Concepts You Might Wa...</td>\n",
       "      <td>bad</td>\n",
       "    </tr>\n",
       "    <tr>\n",
       "      <th>997</th>\n",
       "      <td>Title: How to Create a Generator in Python -&gt;</td>\n",
       "      <td>bad</td>\n",
       "    </tr>\n",
       "    <tr>\n",
       "      <th>998</th>\n",
       "      <td>Title: Picking Your Next Meal Like a Data Scie...</td>\n",
       "      <td>bad</td>\n",
       "    </tr>\n",
       "    <tr>\n",
       "      <th>999</th>\n",
       "      <td>Title: Important Traits To Help You Become A B...</td>\n",
       "      <td>bad</td>\n",
       "    </tr>\n",
       "  </tbody>\n",
       "</table>\n",
       "<p>1000 rows × 2 columns</p>\n",
       "</div>"
      ],
      "text/plain": [
       "                                                prompt completion\n",
       "0    Title: Making serverless variables work for yo...       good\n",
       "1    Title: The Beginners Guide to Similarity Match...       good\n",
       "2    Title: How we crafted a career development fra...       good\n",
       "3      Title: Photographers are obsolete. Are they? ->       good\n",
       "4     Title: 5 Cool AI-Powered Drug Discovery Tools ->       good\n",
       "..                                                 ...        ...\n",
       "995       Title: From Pandas to PySpark with Koalas ->        bad\n",
       "996  Title: 7 Advanced Python Concepts You Might Wa...        bad\n",
       "997      Title: How to Create a Generator in Python ->        bad\n",
       "998  Title: Picking Your Next Meal Like a Data Scie...        bad\n",
       "999  Title: Important Traits To Help You Become A B...        bad\n",
       "\n",
       "[1000 rows x 2 columns]"
      ]
     },
     "execution_count": 11,
     "metadata": {},
     "output_type": "execute_result"
    }
   ],
   "source": [
    "df = pd.read_json(valid_file, orient='records', lines=True)\n",
    "df"
   ]
  },
  {
   "cell_type": "code",
   "execution_count": 33,
   "metadata": {},
   "outputs": [],
   "source": [
    "n_samples = 20\n",
    "df = df.iloc[:n_samples]"
   ]
  },
  {
   "cell_type": "code",
   "execution_count": 24,
   "metadata": {},
   "outputs": [
    {
     "data": {
      "text/plain": [
       "<OpenAIObject text_completion id=cmpl-6IWM6vM86v162P4sIgqiWRL8jZADO at 0x12e19acc0> JSON: {\n",
       "  \"choices\": [\n",
       "    {\n",
       "      \"finish_reason\": \"length\",\n",
       "      \"index\": 0,\n",
       "      \"logprobs\": {\n",
       "        \"text_offset\": [\n",
       "          64\n",
       "        ],\n",
       "        \"token_logprobs\": [\n",
       "          -0.47429797\n",
       "        ],\n",
       "        \"tokens\": [\n",
       "          \" good\"\n",
       "        ],\n",
       "        \"top_logprobs\": [\n",
       "          {\n",
       "            \" good\": -0.47429797\n",
       "          }\n",
       "        ]\n",
       "      },\n",
       "      \"text\": \" good\"\n",
       "    }\n",
       "  ],\n",
       "  \"created\": 1669872298,\n",
       "  \"id\": \"cmpl-6IWM6vM86v162P4sIgqiWRL8jZADO\",\n",
       "  \"model\": \"babbage:ft-personal:blog-title-scorer-2022-12-01-04-05-26\",\n",
       "  \"object\": \"text_completion\",\n",
       "  \"usage\": {\n",
       "    \"completion_tokens\": 1,\n",
       "    \"prompt_tokens\": 15,\n",
       "    \"total_tokens\": 16\n",
       "  }\n",
       "}"
      ]
     },
     "execution_count": 24,
     "metadata": {},
     "output_type": "execute_result"
    }
   ],
   "source": [
    "r = openai.Completion.create(\n",
    "    model=fine_tuned_model,\n",
    "    prompt=df.iloc[1][\"prompt\"],\n",
    "    temperature=0,  # must be 0\n",
    "    max_tokens=1,  # must be 1\n",
    "    logprobs=1,  # returns the probability\n",
    ")\n",
    "r"
   ]
  },
  {
   "cell_type": "code",
   "execution_count": 27,
   "metadata": {},
   "outputs": [
    {
     "name": "stdout",
     "output_type": "stream",
     "text": [
      " good\n",
      "0.6223217917138967\n"
     ]
    }
   ],
   "source": [
    "pred = r[\"choices\"][0][\"text\"]\n",
    "print(pred)\n",
    "class_prob = exp(r[\"choices\"][0][\"logprobs\"][\"token_logprobs\"][0])\n",
    "print(class_prob)"
   ]
  },
  {
   "cell_type": "code",
   "execution_count": 28,
   "metadata": {},
   "outputs": [],
   "source": [
    "def get_pred(res):\n",
    "    pred = res[\"choices\"][0][\"text\"]\n",
    "    class_prob = exp(res[\"choices\"][0][\"logprobs\"][\"token_logprobs\"][0])\n",
    "\n",
    "    if pred == \" bad\":\n",
    "        class_prob = 1.0 - class_prob\n",
    "\n",
    "    return pred, class_prob"
   ]
  },
  {
   "cell_type": "code",
   "execution_count": 34,
   "metadata": {},
   "outputs": [
    {
     "data": {
      "text/html": [
       "<div>\n",
       "<style scoped>\n",
       "    .dataframe tbody tr th:only-of-type {\n",
       "        vertical-align: middle;\n",
       "    }\n",
       "\n",
       "    .dataframe tbody tr th {\n",
       "        vertical-align: top;\n",
       "    }\n",
       "\n",
       "    .dataframe thead th {\n",
       "        text-align: right;\n",
       "    }\n",
       "</style>\n",
       "<table border=\"1\" class=\"dataframe\">\n",
       "  <thead>\n",
       "    <tr style=\"text-align: right;\">\n",
       "      <th></th>\n",
       "      <th>prompt</th>\n",
       "      <th>completion</th>\n",
       "    </tr>\n",
       "  </thead>\n",
       "  <tbody>\n",
       "    <tr>\n",
       "      <th>0</th>\n",
       "      <td>Title: Making serverless variables work for yo...</td>\n",
       "      <td>good</td>\n",
       "    </tr>\n",
       "    <tr>\n",
       "      <th>1</th>\n",
       "      <td>Title: The Beginners Guide to Similarity Match...</td>\n",
       "      <td>good</td>\n",
       "    </tr>\n",
       "    <tr>\n",
       "      <th>2</th>\n",
       "      <td>Title: How we crafted a career development fra...</td>\n",
       "      <td>good</td>\n",
       "    </tr>\n",
       "    <tr>\n",
       "      <th>3</th>\n",
       "      <td>Title: Photographers are obsolete. Are they? -&gt;</td>\n",
       "      <td>good</td>\n",
       "    </tr>\n",
       "    <tr>\n",
       "      <th>4</th>\n",
       "      <td>Title: 5 Cool AI-Powered Drug Discovery Tools -&gt;</td>\n",
       "      <td>good</td>\n",
       "    </tr>\n",
       "    <tr>\n",
       "      <th>5</th>\n",
       "      <td>Title: Solving XOR with a single Perceptron -&gt;</td>\n",
       "      <td>good</td>\n",
       "    </tr>\n",
       "    <tr>\n",
       "      <th>6</th>\n",
       "      <td>Title: A Beginners Guide: Cryptocurrency -&gt;</td>\n",
       "      <td>good</td>\n",
       "    </tr>\n",
       "    <tr>\n",
       "      <th>7</th>\n",
       "      <td>Title: These are the highest paying freelance ...</td>\n",
       "      <td>good</td>\n",
       "    </tr>\n",
       "    <tr>\n",
       "      <th>8</th>\n",
       "      <td>Title: The Secret Behind How Chinese Startups ...</td>\n",
       "      <td>good</td>\n",
       "    </tr>\n",
       "    <tr>\n",
       "      <th>9</th>\n",
       "      <td>Title: Changing sync web server to async in 2 ...</td>\n",
       "      <td>good</td>\n",
       "    </tr>\n",
       "  </tbody>\n",
       "</table>\n",
       "</div>"
      ],
      "text/plain": [
       "                                              prompt completion\n",
       "0  Title: Making serverless variables work for yo...       good\n",
       "1  Title: The Beginners Guide to Similarity Match...       good\n",
       "2  Title: How we crafted a career development fra...       good\n",
       "3    Title: Photographers are obsolete. Are they? ->       good\n",
       "4   Title: 5 Cool AI-Powered Drug Discovery Tools ->       good\n",
       "5     Title: Solving XOR with a single Perceptron ->       good\n",
       "6        Title: A Beginners Guide: Cryptocurrency ->       good\n",
       "7  Title: These are the highest paying freelance ...       good\n",
       "8  Title: The Secret Behind How Chinese Startups ...       good\n",
       "9  Title: Changing sync web server to async in 2 ...       good"
      ]
     },
     "execution_count": 34,
     "metadata": {},
     "output_type": "execute_result"
    }
   ],
   "source": [
    "df"
   ]
  },
  {
   "cell_type": "code",
   "execution_count": 31,
   "metadata": {},
   "outputs": [
    {
     "name": "stderr",
     "output_type": "stream",
     "text": [
      "10it [00:01,  5.29it/s]\n"
     ]
    }
   ],
   "source": [
    "data = []\n",
    "\n",
    "for _, row in tqdm(df.iterrows()):\n",
    "    prompt = row['prompt']\n",
    "    r = openai.Completion.create(\n",
    "        model=fine_tuned_model,\n",
    "        prompt=prompt,\n",
    "        temperature=0,  # must be 0\n",
    "        max_tokens=1,  # must be 1\n",
    "        logprobs=1,  # returns the probability\n",
    "    )\n",
    "\n",
    "    prompt = row['prompt']\n",
    "    target = row['completion']\n",
    "    pred, class_prob = get_pred(r)\n",
    "    data.append([prompt, target, pred, class_prob])"
   ]
  },
  {
   "cell_type": "code",
   "execution_count": 40,
   "metadata": {},
   "outputs": [
    {
     "data": {
      "text/html": [
       "<div>\n",
       "<style scoped>\n",
       "    .dataframe tbody tr th:only-of-type {\n",
       "        vertical-align: middle;\n",
       "    }\n",
       "\n",
       "    .dataframe tbody tr th {\n",
       "        vertical-align: top;\n",
       "    }\n",
       "\n",
       "    .dataframe thead th {\n",
       "        text-align: right;\n",
       "    }\n",
       "</style>\n",
       "<table border=\"1\" class=\"dataframe\">\n",
       "  <thead>\n",
       "    <tr style=\"text-align: right;\">\n",
       "      <th></th>\n",
       "      <th>0</th>\n",
       "      <th>1</th>\n",
       "      <th>2</th>\n",
       "      <th>3</th>\n",
       "    </tr>\n",
       "  </thead>\n",
       "  <tbody>\n",
       "    <tr>\n",
       "      <th>0</th>\n",
       "      <td>Title: Making serverless variables work for yo...</td>\n",
       "      <td>good</td>\n",
       "      <td>bad</td>\n",
       "      <td>0.491576</td>\n",
       "    </tr>\n",
       "    <tr>\n",
       "      <th>1</th>\n",
       "      <td>Title: The Beginners Guide to Similarity Match...</td>\n",
       "      <td>good</td>\n",
       "      <td>good</td>\n",
       "      <td>0.622322</td>\n",
       "    </tr>\n",
       "    <tr>\n",
       "      <th>2</th>\n",
       "      <td>Title: How we crafted a career development fra...</td>\n",
       "      <td>good</td>\n",
       "      <td>good</td>\n",
       "      <td>0.511328</td>\n",
       "    </tr>\n",
       "    <tr>\n",
       "      <th>3</th>\n",
       "      <td>Title: Photographers are obsolete. Are they? -&gt;</td>\n",
       "      <td>good</td>\n",
       "      <td>good</td>\n",
       "      <td>0.502483</td>\n",
       "    </tr>\n",
       "    <tr>\n",
       "      <th>4</th>\n",
       "      <td>Title: 5 Cool AI-Powered Drug Discovery Tools -&gt;</td>\n",
       "      <td>good</td>\n",
       "      <td>bad</td>\n",
       "      <td>0.411839</td>\n",
       "    </tr>\n",
       "    <tr>\n",
       "      <th>5</th>\n",
       "      <td>Title: Solving XOR with a single Perceptron -&gt;</td>\n",
       "      <td>good</td>\n",
       "      <td>good</td>\n",
       "      <td>0.579067</td>\n",
       "    </tr>\n",
       "    <tr>\n",
       "      <th>6</th>\n",
       "      <td>Title: A Beginners Guide: Cryptocurrency -&gt;</td>\n",
       "      <td>good</td>\n",
       "      <td>good</td>\n",
       "      <td>0.713198</td>\n",
       "    </tr>\n",
       "    <tr>\n",
       "      <th>7</th>\n",
       "      <td>Title: These are the highest paying freelance ...</td>\n",
       "      <td>good</td>\n",
       "      <td>good</td>\n",
       "      <td>0.542597</td>\n",
       "    </tr>\n",
       "    <tr>\n",
       "      <th>8</th>\n",
       "      <td>Title: The Secret Behind How Chinese Startups ...</td>\n",
       "      <td>good</td>\n",
       "      <td>good</td>\n",
       "      <td>0.635397</td>\n",
       "    </tr>\n",
       "    <tr>\n",
       "      <th>9</th>\n",
       "      <td>Title: Changing sync web server to async in 2 ...</td>\n",
       "      <td>good</td>\n",
       "      <td>good</td>\n",
       "      <td>0.501522</td>\n",
       "    </tr>\n",
       "  </tbody>\n",
       "</table>\n",
       "</div>"
      ],
      "text/plain": [
       "                                                   0      1      2         3\n",
       "0  Title: Making serverless variables work for yo...   good    bad  0.491576\n",
       "1  Title: The Beginners Guide to Similarity Match...   good   good  0.622322\n",
       "2  Title: How we crafted a career development fra...   good   good  0.511328\n",
       "3    Title: Photographers are obsolete. Are they? ->   good   good  0.502483\n",
       "4   Title: 5 Cool AI-Powered Drug Discovery Tools ->   good    bad  0.411839\n",
       "5     Title: Solving XOR with a single Perceptron ->   good   good  0.579067\n",
       "6        Title: A Beginners Guide: Cryptocurrency ->   good   good  0.713198\n",
       "7  Title: These are the highest paying freelance ...   good   good  0.542597\n",
       "8  Title: The Secret Behind How Chinese Startups ...   good   good  0.635397\n",
       "9  Title: Changing sync web server to async in 2 ...   good   good  0.501522"
      ]
     },
     "execution_count": 40,
     "metadata": {},
     "output_type": "execute_result"
    }
   ],
   "source": [
    "pd.DataFrame(data)"
   ]
  },
  {
   "cell_type": "code",
   "execution_count": 35,
   "metadata": {},
   "outputs": [],
   "source": [
    "prediction_table = wandb.Table(columns=['prompt', 'target', 'pred', 'good_prob'], data=data)"
   ]
  },
  {
   "cell_type": "code",
   "execution_count": 37,
   "metadata": {},
   "outputs": [],
   "source": [
    "wandb.log({'predictions': prediction_table})"
   ]
  },
  {
   "cell_type": "code",
   "execution_count": 38,
   "metadata": {},
   "outputs": [
    {
     "data": {
      "text/html": [
       "Waiting for W&B process to finish... <strong style=\"color:green\">(success).</strong>"
      ],
      "text/plain": [
       "<IPython.core.display.HTML object>"
      ]
     },
     "metadata": {},
     "output_type": "display_data"
    },
    {
     "data": {
      "text/html": [
       "Synced <strong style=\"color:#cdcd00\">clear-pine-6</strong>: <a href=\"https://wandb.ai/benneo/GPT-3%20blog%20title/runs/3701fyay\" target=\"_blank\">https://wandb.ai/benneo/GPT-3%20blog%20title/runs/3701fyay</a><br/>Synced 6 W&B file(s), 1 media file(s), 1 artifact file(s) and 0 other file(s)"
      ],
      "text/plain": [
       "<IPython.core.display.HTML object>"
      ]
     },
     "metadata": {},
     "output_type": "display_data"
    },
    {
     "data": {
      "text/html": [
       "Find logs at: <code>./wandb/run-20221130_223125-3701fyay/logs</code>"
      ],
      "text/plain": [
       "<IPython.core.display.HTML object>"
      ]
     },
     "metadata": {},
     "output_type": "display_data"
    }
   ],
   "source": [
    "wandb.finish()"
   ]
  }
 ],
 "metadata": {
  "kernelspec": {
   "display_name": "Python 3.9.13 ('gpt3-blog')",
   "language": "python",
   "name": "python3"
  },
  "language_info": {
   "codemirror_mode": {
    "name": "ipython",
    "version": 3
   },
   "file_extension": ".py",
   "mimetype": "text/x-python",
   "name": "python",
   "nbconvert_exporter": "python",
   "pygments_lexer": "ipython3",
   "version": "3.9.13"
  },
  "orig_nbformat": 4,
  "vscode": {
   "interpreter": {
    "hash": "98388095db23f0d270f6cd358fd032ff4feb9c08e3a138f6a6bcb71953dc310f"
   }
  }
 },
 "nbformat": 4,
 "nbformat_minor": 2
}
